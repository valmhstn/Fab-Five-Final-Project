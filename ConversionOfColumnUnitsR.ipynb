{
 "cells": [
  {
   "cell_type": "code",
   "execution_count": null,
   "id": "e0a72cc5",
   "metadata": {
    "vscode": {
     "languageId": "r"
    }
   },
   "outputs": [],
   "source": [
    "# Columns where unit of measurement is necessary to update:\n",
    "\n",
    "## Fixed acidity\n",
    "## Volatile acidity\n",
    "## Citric acid\n",
    "## Chlorides\n",
    "## Sulphates"
   ]
  },
  {
   "cell_type": "code",
   "execution_count": null,
   "id": "11f1cf1b",
   "metadata": {
    "vscode": {
     "languageId": "r"
    }
   },
   "outputs": [],
   "source": [
    "# Units of Measurement (Reference)\n",
    "\n",
    "## 1 mg = 0.001 g\n",
    "## 1 cm3 = 1 mL\n",
    "## 1 dm3 = 1 L\n",
    "## 1 g/dm3 = 1 g/L\n",
    "## 1 mg/dm3 = 1 Part per Million\n",
    "\n"
   ]
  },
  {
   "cell_type": "code",
   "execution_count": null,
   "id": "2d207f7e",
   "metadata": {
    "vscode": {
     "languageId": "r"
    }
   },
   "outputs": [],
   "source": [
    "# Load in Packages\n",
    "\n",
    "library (\"dyplr\")"
   ]
  },
  {
   "cell_type": "code",
   "execution_count": null,
   "id": "4ea425ad",
   "metadata": {
    "vscode": {
     "languageId": "r"
    }
   },
   "outputs": [],
   "source": [
    "# Load in Data\n",
    "\n",
    "read.csv(\"WineQT.csv\")"
   ]
  },
  {
   "cell_type": "code",
   "execution_count": null,
   "id": "927413d5",
   "metadata": {
    "vscode": {
     "languageId": "r"
    }
   },
   "outputs": [],
   "source": [
    "## Fixed Acidity\n",
    "\n",
    "### Expressed in dataset as: tartaric acid, (g/dm3)\n",
    "### Converting to: tartaric acid, (mg/L)\n",
    "\n"
   ]
  },
  {
   "cell_type": "code",
   "execution_count": null,
   "id": "c54dc120",
   "metadata": {
    "vscode": {
     "languageId": "r"
    }
   },
   "outputs": [],
   "source": [
    "### Create a Fixed Acidity Recode Column\n",
    "\n",
    "Wine$fixed.acidity.R <- NA\n",
    "head(Wine)"
   ]
  },
  {
   "cell_type": "code",
   "execution_count": null,
   "id": "fb86bf74",
   "metadata": {
    "vscode": {
     "languageId": "r"
    }
   },
   "outputs": [],
   "source": [
    "### Recode Fixed Acidity\n",
    "\n",
    "Wine$fixed.acidity.R <- Wine$fixed.acidity * 1000"
   ]
  },
  {
   "cell_type": "code",
   "execution_count": null,
   "id": "1ea1cdf2",
   "metadata": {
    "vscode": {
     "languageId": "r"
    }
   },
   "outputs": [],
   "source": [
    "## Volatile Acidity\n",
    "\n",
    "### Expressed in dataset as: acetic acid, (g/dm3)\n",
    "### Converting to: acetic acid, (mg/L)\n",
    "\n"
   ]
  },
  {
   "cell_type": "code",
   "execution_count": null,
   "id": "8a235699",
   "metadata": {
    "vscode": {
     "languageId": "r"
    }
   },
   "outputs": [],
   "source": [
    "### Create a Volatile Acidity Recode Column\n",
    "\n",
    "Wine$volatile.acidity.R <- NA\n",
    "head(Wine)"
   ]
  },
  {
   "cell_type": "code",
   "execution_count": null,
   "id": "ed15019e",
   "metadata": {
    "vscode": {
     "languageId": "r"
    }
   },
   "outputs": [],
   "source": [
    "### Recode Volatile Acidity\n",
    "\n",
    "Wine$volatile.acidity.R <- Wine$volatile.acidity * 1000"
   ]
  },
  {
   "cell_type": "code",
   "execution_count": null,
   "id": "1be997e6",
   "metadata": {
    "vscode": {
     "languageId": "r"
    }
   },
   "outputs": [],
   "source": [
    "## Citric Acid\n",
    "\n",
    "### Expressed in dataset as: citric acid, g/dm3\n",
    "### Converting to: citric acid, mg/L\n"
   ]
  },
  {
   "cell_type": "code",
   "execution_count": null,
   "id": "f9ae3917",
   "metadata": {
    "vscode": {
     "languageId": "r"
    }
   },
   "outputs": [],
   "source": [
    "### Create a Citric Acid Recode Column\n",
    "\n",
    "Wine$volatile.acidity.R <- NA\n",
    "head(Wine)"
   ]
  },
  {
   "cell_type": "code",
   "execution_count": null,
   "id": "1ef236ff",
   "metadata": {
    "vscode": {
     "languageId": "r"
    }
   },
   "outputs": [],
   "source": [
    "### Recode Citric Acid\n",
    "\n",
    "Wine$citric.acid.R <- Wine$citric.acid * 1000"
   ]
  },
  {
   "cell_type": "code",
   "execution_count": null,
   "id": "62badc79",
   "metadata": {
    "vscode": {
     "languageId": "r"
    }
   },
   "outputs": [],
   "source": [
    "## Chlorides\n",
    "\n",
    "### Expressed in dataset as: sodium chloride, g/dm3\n",
    "### Converting to: sodium chloride, mg/L"
   ]
  },
  {
   "cell_type": "code",
   "execution_count": null,
   "id": "4f7f6249",
   "metadata": {
    "vscode": {
     "languageId": "r"
    }
   },
   "outputs": [],
   "source": [
    "### Create a Chlorides Recode Column\n",
    "\n",
    "Wine$chlorides.R <- NA\n",
    "head(Wine)"
   ]
  },
  {
   "cell_type": "code",
   "execution_count": null,
   "id": "c5844279",
   "metadata": {
    "vscode": {
     "languageId": "r"
    }
   },
   "outputs": [],
   "source": [
    "### Recode Chlorides\n",
    "\n",
    "Wine$chlorides.R <- Wine$chlorides * 1000"
   ]
  },
  {
   "cell_type": "code",
   "execution_count": null,
   "id": "5d06ea84",
   "metadata": {
    "vscode": {
     "languageId": "r"
    }
   },
   "outputs": [],
   "source": [
    "## Sulphates\n",
    "\n",
    "### Expressed in dataset as: tartaric acid, g/dm3\n",
    "### Converting to: tartaric acid, mg/L\n"
   ]
  },
  {
   "cell_type": "code",
   "execution_count": null,
   "id": "6d745ca0",
   "metadata": {
    "vscode": {
     "languageId": "r"
    }
   },
   "outputs": [],
   "source": [
    "### Create a Sulphates Recode Column\n",
    "\n",
    "Wine$sulphates.R <- NA\n",
    "head(Wine)"
   ]
  },
  {
   "cell_type": "code",
   "execution_count": null,
   "id": "9b3193fd",
   "metadata": {
    "vscode": {
     "languageId": "r"
    }
   },
   "outputs": [],
   "source": [
    "### Recode Sulphates\n",
    "\n",
    "Wine$sulphates.R <- Wine$sulphates * 1000"
   ]
  }
 ],
 "metadata": {
  "kernelspec": {
   "display_name": "R",
   "language": "R",
   "name": "ir"
  },
  "language_info": {
   "name": "R"
  }
 },
 "nbformat": 4,
 "nbformat_minor": 5
}
